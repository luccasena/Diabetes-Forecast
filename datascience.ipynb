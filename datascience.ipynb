{
 "cells": [
  {
   "cell_type": "markdown",
   "id": "94c0b4b0",
   "metadata": {},
   "source": [
    "# Previsão de Diabetes"
   ]
  },
  {
   "cell_type": "markdown",
   "id": "b3737e1e",
   "metadata": {},
   "source": [
    "### 1. Importação das Bibliotecas"
   ]
  },
  {
   "cell_type": "code",
   "execution_count": 1,
   "id": "c47f4947",
   "metadata": {},
   "outputs": [],
   "source": [
    "# Manipulação e Geração de Dados\n",
    "import pandas as pd\n",
    "import numpy as np\n",
    "import random\n",
    "\n",
    "# Visualização de Dados\n",
    "import matplotlib.pyplot as plt\n",
    "import seaborn as sns\n",
    "\n",
    "# Bibliotecas de Machine Learning\n",
    "from sklearn.pipeline import Pipeline\n",
    "from sklearn.preprocessing import StandardScaler, MinMaxScaler, LabelEncoder\n",
    "from sklearn.compose import ColumnTransformer\n",
    "from sklearn.impute import SimpleImputer\n",
    "from sklearn.model_selection import train_test_split\n",
    "from sklearn.linear_model import LogisticRegression\n",
    "from sklearn.ensemble import RandomForestClassifier\n",
    "from sklearn.metrics import classification_report, confusion_matrix, classification_report\n",
    "\n",
    "import joblib"
   ]
  },
  {
   "cell_type": "markdown",
   "id": "9e3db56a",
   "metadata": {},
   "source": [
    "### 2. Geração de Dados Sintéticos"
   ]
  },
  {
   "cell_type": "code",
   "execution_count": 2,
   "id": "0a2b0437",
   "metadata": {},
   "outputs": [
    {
     "data": {
      "text/plain": [
       "'dataset_clinico_realista.csv'"
      ]
     },
     "execution_count": 2,
     "metadata": {},
     "output_type": "execute_result"
    }
   ],
   "source": [
    "n_samples = 10000\n",
    "\n",
    "# Gêneros possíveis\n",
    "genders = ['Masculino', 'Feminino']\n",
    "\n",
    "# Classes alvo possíveis\n",
    "targets = ['Diabetes Tipo 1', 'Diabetes Tipo 2', 'Pré-diabetes', 'Não diabético']\n",
    "\n",
    "# Função para gerar amostra com ruídos naturais e sem restrição por classe\n",
    "def gerar_amostra_realista():\n",
    "    idade = np.random.randint(10, 90)\n",
    "    genero = random.choice(genders)\n",
    "\n",
    "    imc = round(np.random.normal(loc=25, scale=6), 1)\n",
    "    glicemia = np.random.randint(60, 300)\n",
    "    hba1c = round(np.random.normal(loc=6.0, scale=1.2), 1)\n",
    "    insulina = round(np.random.uniform(2, 30), 1)\n",
    "    atividade = np.random.randint(0, 10)\n",
    "    historico = np.random.choice([0, 1], p=[0.7, 0.3])\n",
    "    pressao = np.random.randint(90, 180)\n",
    "    colesterol = np.random.randint(120, 280)\n",
    "    triglicerideos = np.random.randint(50, 300)\n",
    "\n",
    "    # Adicionando variabilidade na rotulagem\n",
    "    if glicemia > 250 or hba1c > 10:\n",
    "        classe = 'Diabetes Tipo 1'\n",
    "    elif hba1c >= 6.5 and glicemia > 125:\n",
    "        classe = 'Diabetes Tipo 2'\n",
    "    elif 100 <= glicemia <= 125 or (5.7 <= hba1c < 6.5):\n",
    "        classe = 'Pré-diabetes'\n",
    "    else:\n",
    "        classe = 'Não diabético'\n",
    "\n",
    "    # Introduzir um ruído de rotulagem para simular erros de diagnóstico\n",
    "    if np.random.rand() < 0.1:\n",
    "        classe = random.choice(targets)\n",
    "\n",
    "    return [\n",
    "        idade, genero, imc, glicemia, hba1c, insulina, atividade,\n",
    "        historico, pressao, colesterol, triglicerideos, classe\n",
    "    ]\n",
    "\n",
    "# Gerar base de dados\n",
    "dados = [gerar_amostra_realista() for _ in range(n_samples)]\n",
    "\n",
    "# Nome das colunas\n",
    "colunas = [\n",
    "    'idade', 'genero', 'imc', 'glicemia', 'hba1c', 'insulina',\n",
    "    'atividade_fisica', 'historico_familiar', 'pressao_arterial',\n",
    "    'colesterol_total', 'triglicerideos', 'diagnostico'\n",
    "]\n",
    "\n",
    "df = pd.DataFrame(dados, columns=colunas)\n",
    "\n",
    "# Exportar CSV\n",
    "caminho_csv = \"dataset_clinico_realista.csv\"\n",
    "df.to_csv(caminho_csv, index=False)\n",
    "\n",
    "caminho_csv\n"
   ]
  },
  {
   "cell_type": "markdown",
   "id": "a7df28ee",
   "metadata": {},
   "source": [
    "### 3. Análise de Dados"
   ]
  },
  {
   "cell_type": "markdown",
   "id": "cddee601",
   "metadata": {},
   "source": [
    "#### 3.1 Configuração para os gráficos"
   ]
  },
  {
   "cell_type": "code",
   "execution_count": 3,
   "id": "559b6ec2",
   "metadata": {},
   "outputs": [],
   "source": [
    "plt.style.use('dark_background')\n",
    "plt.rcParams['figure.figsize'] = (8, 6)"
   ]
  },
  {
   "cell_type": "markdown",
   "id": "f917e155",
   "metadata": {},
   "source": [
    "#### 3.2 Importação dos Dados"
   ]
  },
  {
   "cell_type": "code",
   "execution_count": 4,
   "id": "97fb23cf",
   "metadata": {},
   "outputs": [
    {
     "data": {
      "application/vnd.microsoft.datawrangler.viewer.v0+json": {
       "columns": [
        {
         "name": "index",
         "rawType": "int64",
         "type": "integer"
        },
        {
         "name": "idade",
         "rawType": "int64",
         "type": "integer"
        },
        {
         "name": "genero",
         "rawType": "object",
         "type": "string"
        },
        {
         "name": "imc",
         "rawType": "float64",
         "type": "float"
        },
        {
         "name": "glicemia",
         "rawType": "int64",
         "type": "integer"
        },
        {
         "name": "hba1c",
         "rawType": "float64",
         "type": "float"
        },
        {
         "name": "insulina",
         "rawType": "float64",
         "type": "float"
        },
        {
         "name": "atividade_fisica",
         "rawType": "int64",
         "type": "integer"
        },
        {
         "name": "historico_familiar",
         "rawType": "int64",
         "type": "integer"
        },
        {
         "name": "pressao_arterial",
         "rawType": "int64",
         "type": "integer"
        },
        {
         "name": "colesterol_total",
         "rawType": "int64",
         "type": "integer"
        },
        {
         "name": "triglicerideos",
         "rawType": "int64",
         "type": "integer"
        },
        {
         "name": "diagnostico",
         "rawType": "object",
         "type": "string"
        }
       ],
       "ref": "c25c700c-3eea-41f0-b2c1-9f402c48f013",
       "rows": [
        [
         "0",
         "54",
         "Masculino",
         "18.9",
         "219",
         "5.7",
         "12.0",
         "9",
         "0",
         "123",
         "150",
         "124",
         "Pré-diabetes"
        ],
        [
         "1",
         "21",
         "Masculino",
         "27.8",
         "119",
         "4.6",
         "12.9",
         "5",
         "1",
         "179",
         "152",
         "283",
         "Pré-diabetes"
        ],
        [
         "2",
         "83",
         "Masculino",
         "18.9",
         "263",
         "7.2",
         "10.2",
         "3",
         "0",
         "138",
         "141",
         "223",
         "Diabetes Tipo 1"
        ],
        [
         "3",
         "22",
         "Feminino",
         "33.2",
         "268",
         "7.2",
         "22.3",
         "0",
         "1",
         "132",
         "180",
         "158",
         "Diabetes Tipo 1"
        ],
        [
         "4",
         "81",
         "Masculino",
         "29.1",
         "155",
         "6.8",
         "25.2",
         "5",
         "1",
         "135",
         "141",
         "222",
         "Diabetes Tipo 2"
        ],
        [
         "5",
         "71",
         "Masculino",
         "26.7",
         "204",
         "7.2",
         "23.6",
         "0",
         "1",
         "173",
         "264",
         "57",
         "Diabetes Tipo 2"
        ],
        [
         "6",
         "85",
         "Masculino",
         "23.7",
         "209",
         "5.2",
         "21.2",
         "7",
         "0",
         "130",
         "146",
         "155",
         "Não diabético"
        ],
        [
         "7",
         "15",
         "Feminino",
         "21.6",
         "150",
         "5.4",
         "21.2",
         "1",
         "0",
         "177",
         "125",
         "227",
         "Não diabético"
        ],
        [
         "8",
         "82",
         "Masculino",
         "28.8",
         "230",
         "8.3",
         "24.4",
         "8",
         "0",
         "109",
         "245",
         "287",
         "Diabetes Tipo 2"
        ],
        [
         "9",
         "65",
         "Masculino",
         "24.0",
         "74",
         "6.3",
         "21.7",
         "0",
         "0",
         "109",
         "121",
         "193",
         "Pré-diabetes"
        ],
        [
         "10",
         "32",
         "Feminino",
         "26.7",
         "125",
         "7.6",
         "9.7",
         "4",
         "0",
         "142",
         "131",
         "146",
         "Pré-diabetes"
        ],
        [
         "11",
         "33",
         "Masculino",
         "17.5",
         "159",
         "4.8",
         "7.8",
         "3",
         "0",
         "100",
         "267",
         "273",
         "Não diabético"
        ],
        [
         "12",
         "59",
         "Masculino",
         "28.9",
         "163",
         "3.8",
         "19.5",
         "4",
         "1",
         "114",
         "122",
         "145",
         "Não diabético"
        ],
        [
         "13",
         "32",
         "Masculino",
         "22.9",
         "168",
         "6.3",
         "2.2",
         "6",
         "1",
         "161",
         "225",
         "255",
         "Pré-diabetes"
        ],
        [
         "14",
         "87",
         "Feminino",
         "20.8",
         "64",
         "5.8",
         "15.6",
         "9",
         "0",
         "179",
         "220",
         "196",
         "Pré-diabetes"
        ],
        [
         "15",
         "72",
         "Feminino",
         "19.2",
         "268",
         "4.6",
         "27.0",
         "1",
         "1",
         "124",
         "159",
         "124",
         "Diabetes Tipo 1"
        ],
        [
         "16",
         "12",
         "Feminino",
         "28.7",
         "126",
         "6.9",
         "25.0",
         "5",
         "0",
         "141",
         "140",
         "189",
         "Diabetes Tipo 2"
        ],
        [
         "17",
         "15",
         "Masculino",
         "28.6",
         "260",
         "7.4",
         "26.8",
         "9",
         "1",
         "161",
         "136",
         "222",
         "Diabetes Tipo 1"
        ],
        [
         "18",
         "28",
         "Masculino",
         "30.1",
         "84",
         "5.4",
         "9.3",
         "0",
         "0",
         "104",
         "181",
         "220",
         "Não diabético"
        ],
        [
         "19",
         "25",
         "Feminino",
         "25.9",
         "212",
         "5.2",
         "8.0",
         "4",
         "0",
         "158",
         "237",
         "58",
         "Diabetes Tipo 2"
        ],
        [
         "20",
         "30",
         "Feminino",
         "33.5",
         "182",
         "5.5",
         "7.4",
         "0",
         "1",
         "96",
         "240",
         "187",
         "Não diabético"
        ],
        [
         "21",
         "64",
         "Masculino",
         "32.8",
         "197",
         "4.6",
         "17.0",
         "3",
         "0",
         "148",
         "124",
         "177",
         "Diabetes Tipo 1"
        ],
        [
         "22",
         "34",
         "Feminino",
         "22.6",
         "162",
         "6.6",
         "21.0",
         "9",
         "1",
         "129",
         "253",
         "150",
         "Diabetes Tipo 2"
        ],
        [
         "23",
         "22",
         "Masculino",
         "29.9",
         "217",
         "5.7",
         "10.0",
         "2",
         "1",
         "124",
         "255",
         "216",
         "Pré-diabetes"
        ],
        [
         "24",
         "60",
         "Masculino",
         "25.2",
         "234",
         "4.4",
         "15.1",
         "0",
         "1",
         "167",
         "270",
         "134",
         "Não diabético"
        ],
        [
         "25",
         "12",
         "Feminino",
         "19.7",
         "158",
         "5.9",
         "6.7",
         "3",
         "0",
         "141",
         "183",
         "166",
         "Pré-diabetes"
        ],
        [
         "26",
         "68",
         "Feminino",
         "33.1",
         "282",
         "5.4",
         "14.2",
         "5",
         "0",
         "137",
         "128",
         "297",
         "Diabetes Tipo 1"
        ],
        [
         "27",
         "85",
         "Feminino",
         "13.7",
         "233",
         "6.9",
         "26.6",
         "3",
         "0",
         "170",
         "155",
         "146",
         "Diabetes Tipo 2"
        ],
        [
         "28",
         "39",
         "Feminino",
         "27.8",
         "74",
         "5.6",
         "22.7",
         "1",
         "1",
         "147",
         "152",
         "215",
         "Não diabético"
        ],
        [
         "29",
         "32",
         "Masculino",
         "24.4",
         "183",
         "6.3",
         "12.8",
         "0",
         "0",
         "133",
         "275",
         "260",
         "Pré-diabetes"
        ],
        [
         "30",
         "47",
         "Masculino",
         "38.9",
         "102",
         "6.1",
         "13.9",
         "1",
         "1",
         "105",
         "261",
         "295",
         "Pré-diabetes"
        ],
        [
         "31",
         "11",
         "Masculino",
         "28.7",
         "152",
         "5.7",
         "25.2",
         "2",
         "0",
         "91",
         "220",
         "242",
         "Pré-diabetes"
        ],
        [
         "32",
         "22",
         "Masculino",
         "29.5",
         "103",
         "6.1",
         "27.3",
         "3",
         "0",
         "120",
         "255",
         "276",
         "Pré-diabetes"
        ],
        [
         "33",
         "78",
         "Masculino",
         "17.2",
         "285",
         "5.0",
         "19.3",
         "2",
         "0",
         "125",
         "148",
         "131",
         "Diabetes Tipo 1"
        ],
        [
         "34",
         "14",
         "Masculino",
         "32.2",
         "280",
         "5.8",
         "9.9",
         "4",
         "0",
         "146",
         "121",
         "55",
         "Diabetes Tipo 1"
        ],
        [
         "35",
         "77",
         "Masculino",
         "17.1",
         "108",
         "5.1",
         "11.7",
         "4",
         "0",
         "92",
         "264",
         "282",
         "Pré-diabetes"
        ],
        [
         "36",
         "62",
         "Masculino",
         "23.9",
         "184",
         "9.3",
         "25.5",
         "9",
         "0",
         "124",
         "212",
         "193",
         "Diabetes Tipo 1"
        ],
        [
         "37",
         "79",
         "Masculino",
         "34.0",
         "136",
         "5.2",
         "21.2",
         "7",
         "0",
         "103",
         "188",
         "267",
         "Não diabético"
        ],
        [
         "38",
         "66",
         "Masculino",
         "25.7",
         "152",
         "6.4",
         "2.8",
         "0",
         "0",
         "164",
         "217",
         "222",
         "Pré-diabetes"
        ],
        [
         "39",
         "89",
         "Feminino",
         "22.6",
         "243",
         "7.7",
         "14.0",
         "2",
         "1",
         "140",
         "278",
         "229",
         "Diabetes Tipo 2"
        ],
        [
         "40",
         "43",
         "Masculino",
         "28.0",
         "257",
         "4.7",
         "8.5",
         "8",
         "0",
         "171",
         "275",
         "212",
         "Diabetes Tipo 1"
        ],
        [
         "41",
         "58",
         "Feminino",
         "19.5",
         "129",
         "6.0",
         "12.7",
         "6",
         "1",
         "107",
         "133",
         "250",
         "Pré-diabetes"
        ],
        [
         "42",
         "53",
         "Feminino",
         "17.8",
         "130",
         "5.2",
         "11.9",
         "5",
         "1",
         "141",
         "276",
         "117",
         "Não diabético"
        ],
        [
         "43",
         "54",
         "Masculino",
         "33.4",
         "175",
         "5.0",
         "14.7",
         "4",
         "1",
         "152",
         "244",
         "73",
         "Não diabético"
        ],
        [
         "44",
         "45",
         "Feminino",
         "28.9",
         "88",
         "7.3",
         "8.0",
         "7",
         "1",
         "166",
         "121",
         "196",
         "Não diabético"
        ],
        [
         "45",
         "56",
         "Feminino",
         "31.5",
         "299",
         "6.0",
         "8.4",
         "8",
         "1",
         "104",
         "140",
         "102",
         "Diabetes Tipo 1"
        ],
        [
         "46",
         "12",
         "Feminino",
         "22.1",
         "156",
         "6.6",
         "23.0",
         "3",
         "0",
         "94",
         "170",
         "268",
         "Diabetes Tipo 2"
        ],
        [
         "47",
         "82",
         "Masculino",
         "25.5",
         "127",
         "4.7",
         "5.4",
         "8",
         "0",
         "157",
         "242",
         "168",
         "Não diabético"
        ],
        [
         "48",
         "48",
         "Feminino",
         "33.1",
         "157",
         "4.6",
         "23.1",
         "7",
         "1",
         "160",
         "171",
         "283",
         "Não diabético"
        ],
        [
         "49",
         "60",
         "Masculino",
         "19.3",
         "254",
         "6.3",
         "4.8",
         "1",
         "0",
         "161",
         "150",
         "264",
         "Diabetes Tipo 1"
        ]
       ],
       "shape": {
        "columns": 12,
        "rows": 10000
       }
      },
      "text/html": [
       "<div>\n",
       "<style scoped>\n",
       "    .dataframe tbody tr th:only-of-type {\n",
       "        vertical-align: middle;\n",
       "    }\n",
       "\n",
       "    .dataframe tbody tr th {\n",
       "        vertical-align: top;\n",
       "    }\n",
       "\n",
       "    .dataframe thead th {\n",
       "        text-align: right;\n",
       "    }\n",
       "</style>\n",
       "<table border=\"1\" class=\"dataframe\">\n",
       "  <thead>\n",
       "    <tr style=\"text-align: right;\">\n",
       "      <th></th>\n",
       "      <th>idade</th>\n",
       "      <th>genero</th>\n",
       "      <th>imc</th>\n",
       "      <th>glicemia</th>\n",
       "      <th>hba1c</th>\n",
       "      <th>insulina</th>\n",
       "      <th>atividade_fisica</th>\n",
       "      <th>historico_familiar</th>\n",
       "      <th>pressao_arterial</th>\n",
       "      <th>colesterol_total</th>\n",
       "      <th>triglicerideos</th>\n",
       "      <th>diagnostico</th>\n",
       "    </tr>\n",
       "  </thead>\n",
       "  <tbody>\n",
       "    <tr>\n",
       "      <th>0</th>\n",
       "      <td>54</td>\n",
       "      <td>Masculino</td>\n",
       "      <td>18.9</td>\n",
       "      <td>219</td>\n",
       "      <td>5.7</td>\n",
       "      <td>12.0</td>\n",
       "      <td>9</td>\n",
       "      <td>0</td>\n",
       "      <td>123</td>\n",
       "      <td>150</td>\n",
       "      <td>124</td>\n",
       "      <td>Pré-diabetes</td>\n",
       "    </tr>\n",
       "    <tr>\n",
       "      <th>1</th>\n",
       "      <td>21</td>\n",
       "      <td>Masculino</td>\n",
       "      <td>27.8</td>\n",
       "      <td>119</td>\n",
       "      <td>4.6</td>\n",
       "      <td>12.9</td>\n",
       "      <td>5</td>\n",
       "      <td>1</td>\n",
       "      <td>179</td>\n",
       "      <td>152</td>\n",
       "      <td>283</td>\n",
       "      <td>Pré-diabetes</td>\n",
       "    </tr>\n",
       "    <tr>\n",
       "      <th>2</th>\n",
       "      <td>83</td>\n",
       "      <td>Masculino</td>\n",
       "      <td>18.9</td>\n",
       "      <td>263</td>\n",
       "      <td>7.2</td>\n",
       "      <td>10.2</td>\n",
       "      <td>3</td>\n",
       "      <td>0</td>\n",
       "      <td>138</td>\n",
       "      <td>141</td>\n",
       "      <td>223</td>\n",
       "      <td>Diabetes Tipo 1</td>\n",
       "    </tr>\n",
       "    <tr>\n",
       "      <th>3</th>\n",
       "      <td>22</td>\n",
       "      <td>Feminino</td>\n",
       "      <td>33.2</td>\n",
       "      <td>268</td>\n",
       "      <td>7.2</td>\n",
       "      <td>22.3</td>\n",
       "      <td>0</td>\n",
       "      <td>1</td>\n",
       "      <td>132</td>\n",
       "      <td>180</td>\n",
       "      <td>158</td>\n",
       "      <td>Diabetes Tipo 1</td>\n",
       "    </tr>\n",
       "    <tr>\n",
       "      <th>4</th>\n",
       "      <td>81</td>\n",
       "      <td>Masculino</td>\n",
       "      <td>29.1</td>\n",
       "      <td>155</td>\n",
       "      <td>6.8</td>\n",
       "      <td>25.2</td>\n",
       "      <td>5</td>\n",
       "      <td>1</td>\n",
       "      <td>135</td>\n",
       "      <td>141</td>\n",
       "      <td>222</td>\n",
       "      <td>Diabetes Tipo 2</td>\n",
       "    </tr>\n",
       "    <tr>\n",
       "      <th>...</th>\n",
       "      <td>...</td>\n",
       "      <td>...</td>\n",
       "      <td>...</td>\n",
       "      <td>...</td>\n",
       "      <td>...</td>\n",
       "      <td>...</td>\n",
       "      <td>...</td>\n",
       "      <td>...</td>\n",
       "      <td>...</td>\n",
       "      <td>...</td>\n",
       "      <td>...</td>\n",
       "      <td>...</td>\n",
       "    </tr>\n",
       "    <tr>\n",
       "      <th>9995</th>\n",
       "      <td>45</td>\n",
       "      <td>Feminino</td>\n",
       "      <td>27.7</td>\n",
       "      <td>210</td>\n",
       "      <td>7.1</td>\n",
       "      <td>16.6</td>\n",
       "      <td>9</td>\n",
       "      <td>1</td>\n",
       "      <td>172</td>\n",
       "      <td>161</td>\n",
       "      <td>157</td>\n",
       "      <td>Diabetes Tipo 2</td>\n",
       "    </tr>\n",
       "    <tr>\n",
       "      <th>9996</th>\n",
       "      <td>31</td>\n",
       "      <td>Masculino</td>\n",
       "      <td>30.9</td>\n",
       "      <td>128</td>\n",
       "      <td>6.9</td>\n",
       "      <td>27.2</td>\n",
       "      <td>0</td>\n",
       "      <td>1</td>\n",
       "      <td>127</td>\n",
       "      <td>268</td>\n",
       "      <td>83</td>\n",
       "      <td>Diabetes Tipo 2</td>\n",
       "    </tr>\n",
       "    <tr>\n",
       "      <th>9997</th>\n",
       "      <td>53</td>\n",
       "      <td>Masculino</td>\n",
       "      <td>16.7</td>\n",
       "      <td>89</td>\n",
       "      <td>6.0</td>\n",
       "      <td>18.5</td>\n",
       "      <td>0</td>\n",
       "      <td>0</td>\n",
       "      <td>98</td>\n",
       "      <td>149</td>\n",
       "      <td>141</td>\n",
       "      <td>Pré-diabetes</td>\n",
       "    </tr>\n",
       "    <tr>\n",
       "      <th>9998</th>\n",
       "      <td>62</td>\n",
       "      <td>Feminino</td>\n",
       "      <td>25.4</td>\n",
       "      <td>179</td>\n",
       "      <td>6.0</td>\n",
       "      <td>10.5</td>\n",
       "      <td>4</td>\n",
       "      <td>0</td>\n",
       "      <td>162</td>\n",
       "      <td>124</td>\n",
       "      <td>263</td>\n",
       "      <td>Pré-diabetes</td>\n",
       "    </tr>\n",
       "    <tr>\n",
       "      <th>9999</th>\n",
       "      <td>18</td>\n",
       "      <td>Feminino</td>\n",
       "      <td>17.6</td>\n",
       "      <td>281</td>\n",
       "      <td>6.3</td>\n",
       "      <td>25.2</td>\n",
       "      <td>1</td>\n",
       "      <td>1</td>\n",
       "      <td>170</td>\n",
       "      <td>186</td>\n",
       "      <td>54</td>\n",
       "      <td>Diabetes Tipo 1</td>\n",
       "    </tr>\n",
       "  </tbody>\n",
       "</table>\n",
       "<p>10000 rows × 12 columns</p>\n",
       "</div>"
      ],
      "text/plain": [
       "      idade     genero   imc  glicemia  hba1c  insulina  atividade_fisica  \\\n",
       "0        54  Masculino  18.9       219    5.7      12.0                 9   \n",
       "1        21  Masculino  27.8       119    4.6      12.9                 5   \n",
       "2        83  Masculino  18.9       263    7.2      10.2                 3   \n",
       "3        22   Feminino  33.2       268    7.2      22.3                 0   \n",
       "4        81  Masculino  29.1       155    6.8      25.2                 5   \n",
       "...     ...        ...   ...       ...    ...       ...               ...   \n",
       "9995     45   Feminino  27.7       210    7.1      16.6                 9   \n",
       "9996     31  Masculino  30.9       128    6.9      27.2                 0   \n",
       "9997     53  Masculino  16.7        89    6.0      18.5                 0   \n",
       "9998     62   Feminino  25.4       179    6.0      10.5                 4   \n",
       "9999     18   Feminino  17.6       281    6.3      25.2                 1   \n",
       "\n",
       "      historico_familiar  pressao_arterial  colesterol_total  triglicerideos  \\\n",
       "0                      0               123               150             124   \n",
       "1                      1               179               152             283   \n",
       "2                      0               138               141             223   \n",
       "3                      1               132               180             158   \n",
       "4                      1               135               141             222   \n",
       "...                  ...               ...               ...             ...   \n",
       "9995                   1               172               161             157   \n",
       "9996                   1               127               268              83   \n",
       "9997                   0                98               149             141   \n",
       "9998                   0               162               124             263   \n",
       "9999                   1               170               186              54   \n",
       "\n",
       "          diagnostico  \n",
       "0        Pré-diabetes  \n",
       "1        Pré-diabetes  \n",
       "2     Diabetes Tipo 1  \n",
       "3     Diabetes Tipo 1  \n",
       "4     Diabetes Tipo 2  \n",
       "...               ...  \n",
       "9995  Diabetes Tipo 2  \n",
       "9996  Diabetes Tipo 2  \n",
       "9997     Pré-diabetes  \n",
       "9998     Pré-diabetes  \n",
       "9999  Diabetes Tipo 1  \n",
       "\n",
       "[10000 rows x 12 columns]"
      ]
     },
     "execution_count": 4,
     "metadata": {},
     "output_type": "execute_result"
    }
   ],
   "source": [
    "dataframe = pd.read_csv(\"dataset_clinico_realista.csv\")\n",
    "dataframe                                                       "
   ]
  },
  {
   "cell_type": "markdown",
   "id": "bce5d5b2",
   "metadata": {},
   "source": [
    "#### 3.3 Informação dos Dados"
   ]
  },
  {
   "cell_type": "code",
   "execution_count": 5,
   "id": "37ee14a5",
   "metadata": {},
   "outputs": [
    {
     "name": "stdout",
     "output_type": "stream",
     "text": [
      "<class 'pandas.core.frame.DataFrame'>\n",
      "RangeIndex: 10000 entries, 0 to 9999\n",
      "Data columns (total 12 columns):\n",
      " #   Column              Non-Null Count  Dtype  \n",
      "---  ------              --------------  -----  \n",
      " 0   idade               10000 non-null  int64  \n",
      " 1   genero              10000 non-null  object \n",
      " 2   imc                 10000 non-null  float64\n",
      " 3   glicemia            10000 non-null  int64  \n",
      " 4   hba1c               10000 non-null  float64\n",
      " 5   insulina            10000 non-null  float64\n",
      " 6   atividade_fisica    10000 non-null  int64  \n",
      " 7   historico_familiar  10000 non-null  int64  \n",
      " 8   pressao_arterial    10000 non-null  int64  \n",
      " 9   colesterol_total    10000 non-null  int64  \n",
      " 10  triglicerideos      10000 non-null  int64  \n",
      " 11  diagnostico         10000 non-null  object \n",
      "dtypes: float64(3), int64(7), object(2)\n",
      "memory usage: 937.6+ KB\n"
     ]
    }
   ],
   "source": [
    "dataframe.info()"
   ]
  },
  {
   "cell_type": "markdown",
   "id": "07c601ee",
   "metadata": {},
   "source": [
    "#### 3.4 Observando as Distribuições em cada Atributo"
   ]
  },
  {
   "cell_type": "markdown",
   "id": "f21399a5",
   "metadata": {},
   "source": [
    "3.4.1 Idade"
   ]
  },
  {
   "cell_type": "code",
   "execution_count": 6,
   "id": "2cad5171",
   "metadata": {},
   "outputs": [
    {
     "data": {
      "image/png": "[encoded data removed]",
      "text/plain": [
       "<Figure size 800x600 with 1 Axes>"
      ]
     },
     "metadata": {},
     "output_type": "display_data"
    }
   ],
   "source": [
    "sns.histplot(dataframe['idade'], bins=10, kde=True)  # `dados` é sua série numérica\n",
    "plt.show()"
   ]
  },
  {
   "cell_type": "markdown",
   "id": "e1bac55f",
   "metadata": {},
   "source": [
    "3.4.2 IMC"
   ]
  },
  {
   "cell_type": "code",
   "execution_count": 7,
   "id": "f7b244ad",
   "metadata": {},
   "outputs": [
    {
     "data": {
      "image/png": "[encoded data removed]",
      "text/plain": [
       "<Figure size 800x600 with 1 Axes>"
      ]
     },
     "metadata": {},
     "output_type": "display_data"
    }
   ],
   "source": [
    "sns.histplot(dataframe['imc'], bins=10, kde=True)  # `dados` é sua série numérica\n",
    "plt.show()"
   ]
  },
  {
   "cell_type": "markdown",
   "id": "4dbe29d2",
   "metadata": {},
   "source": [
    "3.4.3 Glicemia"
   ]
  },
  {
   "cell_type": "code",
   "execution_count": 8,
   "id": "3fd1a803",
   "metadata": {},
   "outputs": [
    {
     "data": {
      "image/png": "[encoded data removed]",
      "text/plain": [
       "<Figure size 800x600 with 1 Axes>"
      ]
     },
     "metadata": {},
     "output_type": "display_data"
    }
   ],
   "source": [
    "sns.histplot(dataframe['glicemia'], bins=10, kde=True)  # `dados` é sua série numérica\n",
    "plt.show()"
   ]
  },
  {
   "cell_type": "markdown",
   "id": "e362ea63",
   "metadata": {},
   "source": [
    "3.4.4 HBA1C"
   ]
  },
  {
   "cell_type": "code",
   "execution_count": 9,
   "id": "e664e95d",
   "metadata": {},
   "outputs": [
    {
     "data": {
      "image/png": "[encoded data removed]",
      "text/plain": [
       "<Figure size 800x600 with 1 Axes>"
      ]
     },
     "metadata": {},
     "output_type": "display_data"
    }
   ],
   "source": [
    "sns.histplot(dataframe['hba1c'], bins=10, kde=True)  # `dados` é sua série numérica\n",
    "plt.show()"
   ]
  },
  {
   "cell_type": "markdown",
   "id": "c4246357",
   "metadata": {},
   "source": [
    "3.4.5 Insulina"
   ]
  },
  {
   "cell_type": "code",
   "execution_count": 10,
   "id": "fa464607",
   "metadata": {},
   "outputs": [
    {
     "data": {
      "image/png": "[encoded data removed]",
      "text/plain": [
       "<Figure size 800x600 with 1 Axes>"
      ]
     },
     "metadata": {},
     "output_type": "display_data"
    }
   ],
   "source": [
    "sns.histplot(dataframe['insulina'], bins=10, kde=True)  # `dados` é sua série numérica\n",
    "plt.show()"
   ]
  },
  {
   "cell_type": "markdown",
   "id": "2b95922a",
   "metadata": {},
   "source": [
    "3.4.6 Atividade Física"
   ]
  },
  {
   "cell_type": "code",
   "execution_count": 11,
   "id": "62660f37",
   "metadata": {},
   "outputs": [
    {
     "data": {
      "image/png": "[encoded data removed]",
      "text/plain": [
       "<Figure size 800x600 with 1 Axes>"
      ]
     },
     "metadata": {},
     "output_type": "display_data"
    }
   ],
   "source": [
    "sns.histplot(dataframe['atividade_fisica'], bins=6)  # `dados` é sua série numérica\n",
    "plt.show()"
   ]
  },
  {
   "cell_type": "markdown",
   "id": "3b1ef93c",
   "metadata": {},
   "source": [
    "3.4.7 Historico Familiar"
   ]
  },
  {
   "cell_type": "code",
   "execution_count": 12,
   "id": "4147284f",
   "metadata": {},
   "outputs": [
    {
     "data": {
      "image/png": "[encoded data removed]",
      "text/plain": [
       "<Figure size 800x600 with 1 Axes>"
      ]
     },
     "metadata": {},
     "output_type": "display_data"
    }
   ],
   "source": [
    "sns.histplot(dataframe['historico_familiar'], bins=2)  # `dados` é sua série numérica\n",
    "plt.show()"
   ]
  },
  {
   "cell_type": "markdown",
   "id": "9892635f",
   "metadata": {},
   "source": [
    "3.4.8 Pressao Arterial"
   ]
  },
  {
   "cell_type": "code",
   "execution_count": 13,
   "id": "396edce9",
   "metadata": {},
   "outputs": [
    {
     "data": {
      "image/png": "[encoded data removed]",
      "text/plain": [
       "<Figure size 800x600 with 1 Axes>"
      ]
     },
     "metadata": {},
     "output_type": "display_data"
    }
   ],
   "source": [
    "sns.histplot(dataframe['pressao_arterial'], bins=10,kde=True)  # `dados` é sua série numérica\n",
    "plt.show()"
   ]
  },
  {
   "cell_type": "markdown",
   "id": "33798dae",
   "metadata": {},
   "source": [
    "3.4.9 Gênero"
   ]
  },
  {
   "cell_type": "code",
   "execution_count": 14,
   "id": "63905b69",
   "metadata": {},
   "outputs": [
    {
     "data": {
      "image/png": "[encoded data removed]",
      "text/plain": [
       "<Figure size 800x600 with 1 Axes>"
      ]
     },
     "metadata": {},
     "output_type": "display_data"
    }
   ],
   "source": [
    "sns.histplot(dataframe['genero'], bins=2)  # `dados` é sua série numérica\n",
    "plt.show()"
   ]
  },
  {
   "cell_type": "markdown",
   "id": "f7c8a5d2",
   "metadata": {},
   "source": [
    "3.4.10 Colesterol Total"
   ]
  },
  {
   "cell_type": "code",
   "execution_count": 15,
   "id": "96e57aff",
   "metadata": {},
   "outputs": [
    {
     "data": {
      "image/png": "[encoded data removed]",
      "text/plain": [
       "<Figure size 800x600 with 1 Axes>"
      ]
     },
     "metadata": {},
     "output_type": "display_data"
    }
   ],
   "source": [
    "sns.histplot(dataframe['colesterol_total'], bins=10,kde=True)  # `dados` é sua série numérica\n",
    "plt.show()\n"
   ]
  },
  {
   "cell_type": "markdown",
   "id": "9e280046",
   "metadata": {},
   "source": [
    "3.4.10 Triglicerideos"
   ]
  },
  {
   "cell_type": "code",
   "execution_count": 16,
   "id": "dfd2076c",
   "metadata": {},
   "outputs": [
    {
     "data": {
      "image/png": "[encoded data removed]",
      "text/plain": [
       "<Figure size 800x600 with 1 Axes>"
      ]
     },
     "metadata": {},
     "output_type": "display_data"
    }
   ],
   "source": [
    "sns.histplot(dataframe['triglicerideos'] ,kde=True)  # `dados` é sua série numérica\n",
    "plt.show()"
   ]
  },
  {
   "cell_type": "markdown",
   "id": "ec6ef02f",
   "metadata": {},
   "source": [
    "### 4 Pré-processamento dos Dados"
   ]
  },
  {
   "cell_type": "code",
   "execution_count": 17,
   "id": "46ff20fa",
   "metadata": {},
   "outputs": [
    {
     "data": {
      "text/plain": [
       "(array([[54, 'Masculino', 18.9, ..., 123, 150, 124],\n",
       "        [21, 'Masculino', 27.8, ..., 179, 152, 283],\n",
       "        [83, 'Masculino', 18.9, ..., 138, 141, 223],\n",
       "        ...,\n",
       "        [53, 'Masculino', 16.7, ..., 98, 149, 141],\n",
       "        [62, 'Feminino', 25.4, ..., 162, 124, 263],\n",
       "        [18, 'Feminino', 17.6, ..., 170, 186, 54]],\n",
       "       shape=(10000, 11), dtype=object),\n",
       " array(['Pré-diabetes', 'Pré-diabetes', 'Diabetes Tipo 1', ...,\n",
       "        'Pré-diabetes', 'Pré-diabetes', 'Diabetes Tipo 1'],\n",
       "       shape=(10000,), dtype=object))"
      ]
     },
     "execution_count": 17,
     "metadata": {},
     "output_type": "execute_result"
    }
   ],
   "source": [
    "x_data = dataframe.iloc[:, 0:11].values\n",
    "y_data = dataframe.iloc[:, 11].values\n",
    "\n",
    "x_data, y_data"
   ]
  },
  {
   "cell_type": "code",
   "execution_count": 18,
   "id": "c77ae7e2",
   "metadata": {},
   "outputs": [],
   "source": [
    "colunas_numericas = [\n",
    "   0, 2, 3, 4, 5, 6, 7, 8, 9, 10\n",
    "]"
   ]
  },
  {
   "cell_type": "code",
   "execution_count": 19,
   "id": "b9c7cbdc",
   "metadata": {},
   "outputs": [],
   "source": [
    "encoder_cat = LabelEncoder()\n",
    "x_data[:, 1] = encoder_cat.fit_transform(x_data[:, 1])  # Codificando a coluna 'genero': 1 para masculino, 0 para feminino"
   ]
  },
  {
   "cell_type": "code",
   "execution_count": 10,
   "id": "eca994c6",
   "metadata": {},
   "outputs": [],
   "source": [
    "pipeline_numerico = Pipeline(steps=[\n",
    "    (\"imputer\", SimpleImputer(strategy=\"mean\")),    # Tratando valores ausentes com a média\n",
    "    (\"minmax\", MinMaxScaler()),                     # Normalizando os dados\n",
    "    (\"standard\", StandardScaler())                  # Padronizando os dados\n",
    "])"
   ]
  },
  {
   "cell_type": "code",
   "execution_count": 11,
   "id": "13422b13",
   "metadata": {},
   "outputs": [],
   "source": [
    "transformer = ColumnTransformer(\n",
    "    transformers=[\n",
    "        (\"num\", pipeline_numerico, colunas_numericas)\n",
    "    ],\n",
    "    remainder=\"passthrough\"\n",
    ")"
   ]
  },
  {
   "cell_type": "code",
   "execution_count": 12,
   "id": "4eb1177a",
   "metadata": {},
   "outputs": [
    {
     "data": {
      "text/plain": [
       "array([[0.3737121163840041, -0.9431389660208513, -0.9297626038646534,\n",
       "        ..., 0.5041344136990584, -0.23456928568020724, 1],\n",
       "       [0.5905982252030979, 0.4180035453964777, -0.4371700745555779, ...,\n",
       "        -0.4892594208032924, -0.8575107105190554, 0],\n",
       "       [1.3280109951880168, -0.3621635038305278, -1.2484989463587612,\n",
       "        ..., -0.7268101203582021, 0.1253524264489054, 1],\n",
       "       ...,\n",
       "       [-0.4070778753647335, 0.4180035453964777, -0.8138584793213415,\n",
       "        ..., -0.5972370115100696, -0.4283732845189598, 0],\n",
       "       [0.9376159993136479, -0.6111529876263808, 1.3158798091620154, ...,\n",
       "        -1.072338410619889, -0.649863568906106, 1],\n",
       "       [-0.3203234318370963, 0.03621967024283701, 0.6204550619021434,\n",
       "        ..., -0.6836190840754912, 1.4958235610943715, 0]],\n",
       "      shape=(10000, 11), dtype=object)"
      ]
     },
     "execution_count": 12,
     "metadata": {},
     "output_type": "execute_result"
    }
   ],
   "source": [
    "x_data = transformer.fit_transform(x_data)\n",
    "x_data"
   ]
  },
  {
   "cell_type": "code",
   "execution_count": 13,
   "id": "4f2a67f7",
   "metadata": {},
   "outputs": [],
   "source": [
    "x_train, x_test, y_train, y_test = train_test_split(x_data, y_data, test_size=0.35, random_state=42)"
   ]
  },
  {
   "cell_type": "code",
   "execution_count": 14,
   "id": "8b962b8b",
   "metadata": {},
   "outputs": [],
   "source": [
    "model_random = RandomForestClassifier(random_state=42)\n",
    "model_random.fit(x_train, y_train)\n",
    "y_pred = model_random.predict(x_test)"
   ]
  },
  {
   "cell_type": "code",
   "execution_count": 15,
   "id": "e70815e6",
   "metadata": {},
   "outputs": [
    {
     "name": "stdout",
     "output_type": "stream",
     "text": [
      "                 precision    recall  f1-score   support\n",
      "\n",
      "Diabetes Tipo 1       0.94      0.90      0.92       685\n",
      "Diabetes Tipo 2       0.93      0.90      0.92       698\n",
      "  Não diabético       0.92      0.95      0.93      1137\n",
      "   Pré-diabetes       0.91      0.93      0.92       980\n",
      "\n",
      "       accuracy                           0.93      3500\n",
      "      macro avg       0.93      0.92      0.92      3500\n",
      "   weighted avg       0.93      0.93      0.93      3500\n",
      "\n"
     ]
    }
   ],
   "source": [
    "print(classification_report(y_test, y_pred))\n"
   ]
  },
  {
   "cell_type": "code",
   "execution_count": 16,
   "id": "d23e47de",
   "metadata": {},
   "outputs": [
    {
     "data": {
      "text/plain": [
       "array([[ 619,   12,   25,   29],\n",
       "       [  12,  630,   32,   24],\n",
       "       [  16,   14, 1075,   32],\n",
       "       [  10,   18,   38,  914]])"
      ]
     },
     "execution_count": 16,
     "metadata": {},
     "output_type": "execute_result"
    }
   ],
   "source": [
    "confusion_matrix(y_test, y_pred)"
   ]
  },
  {
   "cell_type": "code",
   "execution_count": 17,
   "id": "e5b7b6a2",
   "metadata": {},
   "outputs": [],
   "source": [
    "model_logistic = LogisticRegression(random_state=42)\n",
    "model_logistic.fit(x_train, y_train)\n",
    "y_pred = model_logistic.predict(x_test)"
   ]
  },
  {
   "cell_type": "code",
   "execution_count": 18,
   "id": "4b6f229b",
   "metadata": {},
   "outputs": [
    {
     "name": "stdout",
     "output_type": "stream",
     "text": [
      "                 precision    recall  f1-score   support\n",
      "\n",
      "Diabetes Tipo 1       0.73      0.86      0.79       685\n",
      "Diabetes Tipo 2       0.78      0.66      0.72       698\n",
      "  Não diabético       0.65      0.75      0.70      1137\n",
      "   Pré-diabetes       0.56      0.46      0.51       980\n",
      "\n",
      "       accuracy                           0.67      3500\n",
      "      macro avg       0.68      0.68      0.68      3500\n",
      "   weighted avg       0.67      0.67      0.67      3500\n",
      "\n"
     ]
    }
   ],
   "source": [
    "print(classification_report(y_test, y_pred))"
   ]
  },
  {
   "cell_type": "code",
   "execution_count": 19,
   "id": "93278cb9",
   "metadata": {},
   "outputs": [
    {
     "data": {
      "text/plain": [
       "array([[590,  37,  42,  16],\n",
       "       [ 59, 462,  29, 148],\n",
       "       [ 69,  32, 848, 188],\n",
       "       [ 87,  62, 380, 451]])"
      ]
     },
     "execution_count": 19,
     "metadata": {},
     "output_type": "execute_result"
    }
   ],
   "source": [
    "confusion_matrix(y_test, y_pred)"
   ]
  },
  {
   "cell_type": "markdown",
   "id": "86ddb319",
   "metadata": {},
   "source": [
    "### 5. Importação do Modelo e do Pré-processamento"
   ]
  },
  {
   "cell_type": "code",
   "execution_count": 21,
   "id": "e132c4c6",
   "metadata": {},
   "outputs": [
    {
     "data": {
      "text/plain": [
       "['transformer.pkl']"
      ]
     },
     "execution_count": 21,
     "metadata": {},
     "output_type": "execute_result"
    }
   ],
   "source": [
    "joblib.dump(model_random, 'modelo_random_forest.pkl')\n",
    "joblib.dump(transformer, 'transformer.pkl')"
   ]
  }
 ],
 "metadata": {
  "kernelspec": {
   "display_name": "venv (3.12.7)",
   "language": "python",
   "name": "python3"
  },
  "language_info": {
   "codemirror_mode": {
    "name": "ipython",
    "version": 3
   },
   "file_extension": ".py",
   "mimetype": "text/x-python",
   "name": "python",
   "nbconvert_exporter": "python",
   "pygments_lexer": "ipython3",
   "version": "3.12.7"
  }
 },
 "nbformat": 4,
 "nbformat_minor": 5
}
